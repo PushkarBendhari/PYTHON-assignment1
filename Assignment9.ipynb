{
  "cells": [
    {
      "cell_type": "markdown",
      "metadata": {
        "colab_type": "text",
        "id": "view-in-github"
      },
      "source": [
        "<a href=\"https://colab.research.google.com/github/RiyaAhire011/python/blob/main/Assignment9.ipynb\" target=\"_parent\"><img src=\"https://colab.research.google.com/assets/colab-badge.svg\" alt=\"Open In Colab\"/></a>"
      ]
    },
    {
      "cell_type": "code",
      "execution_count": null,
      "metadata": {
        "colab": {
          "base_uri": "https://localhost:8080/"
        },
        "id": "5d31SxBtDX9N",
        "outputId": "f936fe41-75cc-4255-d774-badfca4773f3"
      },
      "outputs": [
        {
          "name": "stdout",
          "output_type": "stream",
          "text": [
            "Decay Coefficient at temperature T1: 0.23\n",
            "Temperature of 3rd day BOD (T1): 20\n",
            "Temperature for 7th day BOD (T2): 25\n",
            "The value of K2 at 25.0°C is: 0.2893751572825015\n",
            "BOD at time t: 2.718\n",
            "Time in days for finding BOD (t): 50\n",
            "Decay Coefficient (K) at the temperature of BOD measurement: 3\n",
            "The value of Ultimate BOD (Lo) is: 2.718\n",
            "Time in days for finding BOD at time t1: 7\n",
            "The value of BOD at time 7.0 days is: 2.71799999793906\n"
          ]
        }
      ],
      "source": [
        "#Pushkar Bendhari\n",
        "#Roll No. 21CV006\n",
        "# To find Decay Coefficient at 25C\n",
        "K1 = float(input(\"Decay Coefficient at temperature T1: \"))\n",
        "T1 = float(input(\"Temperature of 3rd day BOD (T1): \"))\n",
        "T2 = float(input(\"Temperature for 7th day BOD (T2): \"))\n",
        "theta = 1.047\n",
        "K2 = K1 * (theta**(T2 - T1))\n",
        "print(f\"The value of K2 at {T2}°C is: {K2}\")\n",
        "# To find Ultimate BOD (Lo)\n",
        "Bt = float(input(\"BOD at time t: \"))\n",
        "t = float(input(\"Time in days for finding BOD (t): \"))\n",
        "K = float(input(\"Decay Coefficient (K) at the temperature of BOD measurement: \"))\n",
        "import math\n",
        "Lo = Bt / (1 - math.exp(-K * t))\n",
        "print(f\"The value of Ultimate BOD (Lo) is: {Lo}\")\n",
        "t1 = float(input(\"Time in days for finding BOD at time t1: \"))\n",
        "BOD_at_t1 = Lo * (1 - math.exp(-K * t1))\n",
        "print(f\"The value of BOD at time {t1} days is: {BOD_at_t1}\")\n",
        "\n"
      ]
    },
    {
      "cell_type": "code",
      "execution_count": 3,
      "metadata": {
        "colab": {
          "base_uri": "https://localhost:8080/"
        },
        "id": "BxGR_dsiD3W1",
        "outputId": "7f20caed-5c97-4a52-fea7-b07294fc6f00"
      },
      "outputs": [
        {
          "name": "stdout",
          "output_type": "stream",
          "text": [
            "Enter the value of initial mass :100\n",
            "Enter the value of solid containing sludge in percentage:2\n",
            "Enterthe value of Specific gravity ofsludge solid:2.2\n",
            "Enter the value of density of water:1000\n",
            "the value ofmass of water 98.0\n",
            "The value of Solid Content in sludge 2.0\n",
            "The Value of Volume 0.098\n",
            "The value ofDensity of solid content in sludge 2200.0\n",
            "The value of volume of solid content in sludge 0.00041322314049586776\n",
            "The value of total volume of solid content in sludge 0.09841322314049587\n",
            "The value of Density of sludge removed from aeration 1016.1236143768895\n"
          ]
        }
      ],
      "source": [
        "#Riya Ahire 22CV002\n",
        "#Determination if density of sludge removed from aeration tank\n",
        "M= float(input(\"Enter the value of initial mass :\"))\n",
        "S=float(input(\"Enter the value of solid containing sludge in percentage:\"))\n",
        "Gs= float(input(\"Enterthe value of Specific gravity ofsludge solid:\"))\n",
        "Rho_W= float(input(\"Enter the value of density of water:\"))\n",
        "Ws = (S/M)*100\n",
        "m =M- Ws\n",
        "print(\"the value ofmass of water\", m)\n",
        "print(\"The value of Solid Content in sludge\", Ws)\n",
        "Vw =m /Rho_W\n",
        "print (\"The Value of Volume\", Vw)\n",
        "Rho_S =Gs * Rho_W\n",
        "print(\"The value ofDensity of solid content in sludge\", Rho_S)\n",
        "Vs=(Ws/(Gs*Rho_S ))\n",
        "print(\"The value of volume of solid content in sludge\", Vs)\n",
        "Vt= Vw + Vs\n",
        "print(\"The value of total volume of solid content in sludge\", Vt)\n",
        "Rho_SL= M/ Vt\n",
        "print(\"The value of Density of sludge removed from aeration\", Rho_SL)\n",
        "\n"
      ]
    }
  ],
  "metadata": {
    "colab": {
      "authorship_tag": "ABX9TyMmMcvAgGT4gpq3r13TKVcv",
      "include_colab_link": true,
      "provenance": []
    },
    "kernelspec": {
      "display_name": "Python 3",
      "name": "python3"
    },
    "language_info": {
      "name": "python"
    }
  },
  "nbformat": 4,
  "nbformat_minor": 0
}
