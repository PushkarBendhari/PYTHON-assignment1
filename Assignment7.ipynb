{
  "cells": [
    {
      "cell_type": "markdown",
      "metadata": {
        "colab_type": "text",
        "id": "view-in-github"
      },
      "source": [
        "<a href=\"https://colab.research.google.com/github/RiyaAhire011/python/blob/main/Assignment7.ipynb\" target=\"_parent\"><img src=\"https://colab.research.google.com/assets/colab-badge.svg\" alt=\"Open In Colab\"/></a>"
      ]
    },
    {
      "cell_type": "code",
      "execution_count": null,
      "metadata": {
        "colab": {
          "base_uri": "https://localhost:8080/"
        },
        "id": "4e_kS8EuACrq",
        "outputId": "161ece12-f82a-4e73-8b36-8d1552c087cf"
      },
      "outputs": [
        {
          "name": "stdout",
          "output_type": "stream",
          "text": [
            "Enter the value of Bulk Density of soil:18\n",
            "Enter the value of Saturated Density of soil:20\n",
            "Enter the unit Weight of Water:10\n",
            "Enter the value of depth of footing:2\n",
            "Enter the value of water table above footing level:0\n",
            "Enter the value of Water table below the level of footing:0\n",
            "Enter the value of width of footing:3\n",
            "Enter the vaiue of Nq:33\n",
            "Enter the value of N ganna (N):34\n",
            "Submerged Weight of soil is: 10.0\n",
            "CASE A\n",
            "The value of ultimate bearing capacity of soil is: 1068.0\n",
            "The value of Rw is: 0.5\n",
            "The value of Rw1 is: 0.5\n",
            "The value ultimate bearing capacity of soil is: 961.2\n",
            "CASE B\n",
            "The value of ultimate bearing capacity is: 1200.0\n",
            "Enter the value of water table above footing level:3\n",
            "Enter the value of Water table below the level of footing: 0\n",
            "The approximate value of ultimate bearing capacity is: \n",
            "The value of Rw is: 1.0\n",
            "The approximate value of ultimate hearing capacity is:  1555.2\n",
            "CASE C\n",
            "Enter the value of depth of water below footing:1\n",
            "The value of ultimate bearing capacity is: 1875.2\n",
            "Enter the value of water table above footing level:3\n",
            "Enter the value of Water table below the level of footing:1\n",
            "The approximate value of ultimate bearing capacity is:\n",
            "The value of Rw is: 1.0\n",
            "The value of Rwl is:  0.6666666666666666\n",
            "the value of ultimate bearing capaciy is: 1677.6\n"
          ]
        }
      ],
      "source": [
        "#Pushkar Bendhari\n",
        "#Roll No. 21CV006\n",
        "# To Determine the bearing capacity of soil with water table\n",
        "BulkDensity =float(input(\"Enter the value of Bulk Density of soil:\"))\n",
        "SatDensity = float(input(\"Enter the value of Saturated Density of soil:\"))\n",
        "WaterDensity = float(input(\"Enter the unit Weight of Water:\"))\n",
        "Df= float(input(\"Enter the value of depth of footing:\"))\n",
        "Dw = float(input(\"Enter the value of water table above footing level:\"))\n",
        "Dw1= float(input(\"Enter the value of Water table below the level of footing:\"))\n",
        "B=float(input(\"Enter the value of width of footing:\"))\n",
        "Nq= float(input(\"Enter the vaiue of Nq:\"))\n",
        "Ng =float(input(\"Enter the value of N ganna (N):\")) # Corrected variable name\n",
        "SubDensity = SatDensity - WaterDensity # Corrected variable assignment\n",
        "print(\"Submerged Weight of soil is:\", SubDensity)\n",
        "# The bearing capacity of soil when water table is at ground\n",
        "print (\"CASE A\")\n",
        "qu= (SubDensity* Df*Nq) + (0.5*0.8*B*SubDensity*Ng) # Corrected variable name and multiplication\n",
        "print (\"The value of ultimate bearing capacity of soil is:\", qu)\n",
        "# Approximate calculation of Bearing capacity of soil is.\n",
        "Rw= 0.5 + 0.5*(Dw/B)\n",
        "print (\"The value of Rw is:\", Rw)\n",
        "Rw1 = 0.5 + 0.5*(Dw1/B) # Corrected division operator\n",
        "print (\"The value of Rw1 is:\", Rw1)\n",
        "qu= (BulkDensity*Df*Nq*Rw) + (0.5*0.8*B*BulkDensity *Ng*Rw1) # Corrected variable names and multiplication\n",
        "print (\"The value ultimate bearing capacity of soil is:\", qu)\n",
        "# Case B\n",
        "print (\"CASE B\")\n",
        "qu= (BulkDensity * Df*Nq) + (0.5*0.8*B*SubDensity) # Corrected multiplication and variable name\n",
        "print (\"The value of ultimate bearing capacity is:\", qu)\n",
        "Dw = float(input(\"Enter the value of water table above footing level:\"))\n",
        "Dw1 = float(input(\"Enter the value of Water table below the level of footing: \")) # Corrected closing quote\n",
        "print (\"The approximate value of ultimate bearing capacity is: \")\n",
        "Rw=0.5 + 0.5*(Dw/B)\n",
        "print (\"The value of Rw is:\", Rw)\n",
        "Rw1= 0.5 + 0.5* (Dw1/B) # Corrected division operator\n",
        "qu= (BulkDensity * Df * Nq * Rw) + (0.5 * 0.8 * B * BulkDensity * Ng * Rw1) # Corrected multiplication and variable names\n",
        "print (\"The approximate value of ultimate hearing capacity is: \", qu)\n",
        "# Case C\n",
        "print (\"CASE C\")\n",
        "x = float(input(\"Enter the value of depth of water below footing:\"))\n",
        "qu = (BulkDensity * Df * Nq) + (0.5 * 0.8 * (BulkDensity * x) + (SubDensity * (B-x)) * Ng) # Corrected multiplication and variable names\n",
        "print (\"The value of ultimate bearing capacity is:\", qu)\n",
        "Dw = float(input(\"Enter the value of water table above footing level:\"))\n",
        "Dw1= float(input(\"Enter the value of Water table below the level of footing:\")) # Corrected closing quote\n",
        "print (\"The approximate value of ultimate bearing capacity is:\")\n",
        "Rw= 0.5 + 0.5*(Dw/B) # Corrected\n",
        "print (\"The value of Rw is:\", Rw)\n",
        "Rw1 = 0.5 + 0.5*(Dw1/B) # Corrected division operator\n",
        "print (\"The value of Rwl is: \", Rw1)\n",
        "qu= (BulkDensity * Df * Nq * Rw) + (0.5*0.8*B*BulkDensity*Ng*Rw1) # Corrected multiplication and variable names\n",
        "print (\"the value of ultimate bearing capaciy is:\", qu)"
      ]
    },
    {
      "cell_type": "code",
      "execution_count": 5,
      "metadata": {
        "colab": {
          "base_uri": "https://localhost:8080/"
        },
        "id": "1VJM1Y9vBcwi",
        "outputId": "e079004a-4336-42c7-e260-51c7037f3de5"
      },
      "outputs": [
        {
          "name": "stdout",
          "output_type": "stream",
          "text": [
            "Enter the value of UCS of soil:75\n",
            "Enter the value of dimension of pile:0.45\n",
            "Enter the length of pile:15\n",
            "Enter the value of adhesion factor:0.8\n",
            "The value of Nc: 9\n",
            "the Base area of footing is: 0.2025\n",
            "The value of chohesion of soil is: 37.5\n",
            "'Qpu: 68.34375\n",
            "Qf: 810.0\n",
            "the value of load carring capacity of pile is (Qu): 878.34375\n"
          ]
        }
      ],
      "source": [
        "#Riya Ahire 22CV002\n",
        "# To find the ultimate load carring capacity of pile\n",
        "UCS = float(input(\"Enter the value of UCS of soil:\"))\n",
        "Cu = UCS/2\n",
        "B = float(input(\"Enter the value of dimension of pile:\"))\n",
        "l=float(input(\"Enter the length of pile:\"))\n",
        "Alpha = float(input(\"Enter the value of adhesion factor:\"))\n",
        "Nc= float(input(\"The value of Nc: \"))\n",
        "Ab = B*B\n",
        "print(\"the Base area of footing is:\", Ab)\n",
        "As = 4*B*l\n",
        "print(\"The value of chohesion of soil is:\", Cu)\n",
        "Qpu = Cu*Nc*Ab\n",
        "print(\"'Qpu:\", Qpu)\n",
        "Qf = Alpha*Cu*As\n",
        "print (\"Qf:\", Qf)\n",
        "Qu= Qpu + Qf\n",
        "print(\"the value of load carring capacity of pile is (Qu):\", Qu)"
      ]
    },
    {
      "cell_type": "code",
      "execution_count": 6,
      "metadata": {
        "colab": {
          "base_uri": "https://localhost:8080/"
        },
        "id": "3jjUr42TBypN",
        "outputId": "21097111-0794-41c4-ea31-ad12d2bd1174"
      },
      "outputs": [
        {
          "name": "stdout",
          "output_type": "stream",
          "text": [
            "Enter the value of Bulk Density of soil:18\n",
            "Enter the value of Saturated Density of soil:20\n",
            "Enter the unit Weight of Water:10\n",
            "Enter the value of depth of footing:2\n",
            "Enter the value of width of footing:3\n",
            "Enter the value of Nq:33\n",
            "Enter the value of Ng:34\n",
            "Submerged Weight of soil is: 10.0\n",
            "Number of data values of Water table above footing level: 3\n",
            "Number of data values of Water table below footing level: 3\n",
            "Enter the value of water table above footing level measured w.r.t. ground (Dw) : \n",
            "0\n",
            "The value of Rw is: 0.5\n",
            "Enter the value of water table above footing level measured w.r.t. ground (Dw) : \n",
            "1\n",
            "The value of Rw is: 0.6666666666666666\n",
            "Enter the value of water table above footing level measured w.r.t. ground (Dw) : \n",
            "2\n",
            "The value of Rw is: 0.8333333333333333\n",
            "Enter the value of water table below footing level measured w.r.t. ground (Dw1): \n",
            "0\n",
            "The value of Rw1 is: 0.5\n",
            "qu:  1357.1999999999998 kN/m^2\n",
            "Enter the value of water table below footing level measured w.r.t. ground (Dw1): \n",
            "0\n",
            "The value of Rw1 is: 0.5\n",
            "qu:  1357.1999999999998 kN/m^2\n",
            "Enter the value of water table below footing level measured w.r.t. ground (Dw1): \n",
            "2\n",
            "The value of Rw1 is: 0.8333333333333333\n",
            "qu:  1602.0 kN/m^2\n"
          ]
        }
      ],
      "source": [
        "#Riya Ahire 22CV002\n",
        "# To Determine the bearing capacity of soil with water table\n",
        "BulkDensity = float (input (\"Enter the value of Bulk Density of soil:\"))\n",
        "SatDensity = float (input (\"Enter the value of Saturated Density of soil:\"))\n",
        "WaterDensity = float (input (\"Enter the unit Weight of Water:\"))\n",
        "Df = float (input (\"Enter the value of depth of footing:\"))\n",
        "B = float (input (\"Enter the value of width of footing:\"))\n",
        "Nq = float (input (\"Enter the value of Nq:\")) # Added missing Nq input\n",
        "Ng = float (input (\"Enter the value of Ng:\"))\n",
        "# N Gamma = float (input (\"Enter the value of N gamma (N):\")) # Corrected variable name\n",
        "SubDensity = SatDensity - WaterDensity\n",
        "print (\"Submerged Weight of soil is:\", SubDensity)\n",
        "M = int (input(\"Number of data values of Water table above footing level: \"))\n",
        "N = int (input(\"Number of data values of Water table below footing level: \"))\n",
        "Dw = []\n",
        "Dw1 = [] # Corrected list initialization\n",
        "for i in range (M) : # Range should start from 0\n",
        "    print (\"Enter the value of water table above footing level measured w.r.t. ground (Dw) : \")\n",
        "    Depth_Dw = float (input ())\n",
        "    Dw. append (Depth_Dw)\n",
        "    Rw = 0.5 + 0.5* (Depth_Dw/B) # Corrected variable name\n",
        "    print (\"The value of Rw is:\", Rw)\n",
        "for j in range (N): # Range should start from 0\n",
        "    print (\"Enter the value of water table below footing level measured w.r.t. ground (Dw1): \")\n",
        "    Depth_Dw1 = float (input())\n",
        "    Dw1.append (Depth_Dw1) # Corrected variable name\n",
        "    Rw1 = 0.5 + 0.5*(Depth_Dw1/B) # Corrected variable name\n",
        "    print (\"The value of Rw1 is:\", Rw1)\n",
        "    qu= (BulkDensity*Df*Nq*Rw) + (0.5*0.8*B*BulkDensity*Ng*Rw1) # Corrected variable name\n",
        "    print (\"qu: \", qu, \"kN/m^2\")\n"
      ]
    }
  ],
  "metadata": {
    "colab": {
      "authorship_tag": "ABX9TyNJFWD7e81Sgw+47lVT8Dss",
      "include_colab_link": true,
      "provenance": []
    },
    "kernelspec": {
      "display_name": "Python 3",
      "name": "python3"
    },
    "language_info": {
      "name": "python"
    }
  },
  "nbformat": 4,
  "nbformat_minor": 0
}
