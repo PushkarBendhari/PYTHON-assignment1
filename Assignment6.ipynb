{
  "cells": [
    {
      "cell_type": "markdown",
      "metadata": {
        "colab_type": "text",
        "id": "view-in-github"
      },
      "source": [
        "<a href=\"https://colab.research.google.com/github/RiyaAhire011/python/blob/main/Assignment6.ipynb\" target=\"_parent\"><img src=\"https://colab.research.google.com/assets/colab-badge.svg\" alt=\"Open In Colab\"/></a>"
      ]
    },
    {
      "cell_type": "code",
      "execution_count": null,
      "metadata": {
        "colab": {
          "base_uri": "https://localhost:8080/"
        },
        "id": "21pAYMul_GHx",
        "outputId": "7cce72ee-c270-4682-bf0f-ae49ceb4f53b"
      },
      "outputs": [
        {
          "name": "stdout",
          "output_type": "stream",
          "text": [
            "Enter the value of Load in kN: 2500\n",
            "Number of data values of radial distance: 5\n",
            "Depth: 6\n",
            "Enter radial distance in m\n",
            "1\n",
            "Stress:  30.962130445358056 kN/m^2\n",
            "Enter radial distance in m\n",
            "2\n",
            "Stress:  25.479163627894877 kN/m^2\n",
            "Enter radial distance in m\n",
            "3\n",
            "Stress:  18.98033449112347 kN/m^2\n",
            "Enter radial distance in m\n",
            "4\n",
            "Stress:  13.22290223969301 kN/m^2\n",
            "Enter radial distance in m\n",
            "5\n",
            "Stress:  8.871775810212231 kN/m^2\n"
          ]
        }
      ],
      "source": [
        "#Pushkar Bendhari\n",
        "#Roll No. 21CV006\n",
        "# Stress When depth is constant\n",
        "Q = float (input (\"Enter the value of Load in kN: \"))\n",
        "N= int (input (\"Number of data values of radial distance: \"))\n",
        "pi = 3.14159265359\n",
        "Z = float (input (\"Depth: \"))\n",
        "r = []\n",
        "for i in range (0, N):\n",
        "  print (\"Enter radial distance in m\".format (i+1))\n",
        "  Value_r = float(input () )\n",
        "  r.append (Value_r)\n",
        "  Stress = ((3*Q)/(2*pi*Z*Z) ) * (((1/ (1+((Value_r/Z) **2))) ) **2.5)\n",
        "  print(\"Stress: \", Stress, \"kN/m^2\")"
      ]
    },
    {
      "cell_type": "code",
      "execution_count": 3,
      "metadata": {
        "colab": {
          "base_uri": "https://localhost:8080/"
        },
        "id": "MQI64vx0_kHK",
        "outputId": "33099e71-8adf-4cdc-d8a4-126ea18095d3"
      },
      "outputs": [
        {
          "name": "stdout",
          "output_type": "stream",
          "text": [
            "Enter the value of Load in kN: 2500\n",
            "Number of data values of depth: 5\n",
            "Radial Distance: 6\n",
            "Enter depth in z\n",
            "1\n",
            "Stress:  0.14334319650628732 kN/m^2\n",
            "Enter depth in z\n",
            "2\n",
            "Stress:  0.9436727269590699 kN/m^2\n",
            "Enter depth in z\n",
            "3\n",
            "Stress:  2.372541811390434 kN/m^2\n",
            "Enter depth in z\n",
            "4\n",
            "Stress:  3.917896959909041 kN/m^2\n",
            "Enter depth in z\n",
            "5\n",
            "Stress:  5.1341295197987495 kN/m^2\n"
          ]
        }
      ],
      "source": [
        "#Riya Ahire 22CV002\n",
        "# Stress when Radius is Constant\n",
        "Q = float (input(\"Enter the value of Load in kN: \"))\n",
        "M= int (input (\"Number of data values of depth: \"))\n",
        "pi = 3.14159265359\n",
        "r = float (input(\"Radial Distance: \"))\n",
        "Z = []\n",
        "for j in range (1, M+1):\n",
        "  print(\"Enter depth in z\".format (j))\n",
        "  Value_Z = float(input ())\n",
        "  Z. append (Value_Z)\n",
        "  Stress = ((3*Q)/(2*pi*Value_Z* Value_Z)) * ((1/ (1+ ( (r/Value_Z) **2))) )**2.5\n",
        "  print(\"Stress: \", Stress, \"kN/m^2\")\n"
      ]
    },
    {
      "cell_type": "code",
      "execution_count": null,
      "metadata": {
        "id": "4e_kS8EuACrq"
      },
      "outputs": [],
      "source": []
    }
  ],
  "metadata": {
    "colab": {
      "authorship_tag": "ABX9TyMHZecLOcG3zgXyQxRB0ow7",
      "include_colab_link": true,
      "provenance": []
    },
    "kernelspec": {
      "display_name": "Python 3",
      "name": "python3"
    },
    "language_info": {
      "name": "python"
    }
  },
  "nbformat": 4,
  "nbformat_minor": 0
}
