{
  "cells": [
    {
      "cell_type": "markdown",
      "metadata": {
        "colab_type": "text",
        "id": "view-in-github"
      },
      "source": [
        "<a href=\"https://colab.research.google.com/github/RiyaAhire011/python/blob/main/Assignment2.ipynb\" target=\"_parent\"><img src=\"https://colab.research.google.com/assets/colab-badge.svg\" alt=\"Open In Colab\"/></a>"
      ]
    },
    {
      "cell_type": "code",
      "execution_count": null,
      "metadata": {
        "colab": {
          "base_uri": "https://localhost:8080/"
        },
        "id": "DnGho2IE2j5-",
        "outputId": "72206205-af68-4869-bb52-1ae597e975a1"
      },
      "outputs": [
        {
          "name": "stdout",
          "output_type": "stream",
          "text": [
            "Enter the value of initial Infiltration Rate:6\n",
            "Enter the value of Final infiltration Rate:1.2\n",
            "Enter the value of Time:8\n",
            "Enter the value of Decay Coefficient:0.888\n",
            "The value of Total Infiltration is: 15.005405405405405\n"
          ]
        }
      ],
      "source": [
        "#Pushkar Bendhari\n",
        "#Roll No. 21CV006\n",
        "# Calculation of total Infiltration by Horton's Equation\n",
        "fo = float(input(\"Enter the value of initial Infiltration Rate:\"))\n",
        "fc= float(input(\"Enter the value of Final infiltration Rate:\"))\n",
        "t= float(input(\"Enter the value of Time:\"))\n",
        "kh= float(input(\"Enter the value of Decay Coefficient:\"))\n",
        "# The total Infiltration is given by:\n",
        "Fp= fc*t+(fo-fc)/kh\n",
        "print(\"The value of Total Infiltration is:\", Fp)"
      ]
    },
    {
      "cell_type": "code",
      "execution_count": 2,
      "metadata": {
        "colab": {
          "base_uri": "https://localhost:8080/"
        },
        "id": "MAWxlTlj4ZrU",
        "outputId": "0afe7347-6ffa-440f-aef6-b28a0d944832"
      },
      "outputs": [
        {
          "name": "stdout",
          "output_type": "stream",
          "text": [
            "Enter the value of rainfall at Station 1:125\n",
            "Enter the value of rainfall at Station 2:175\n",
            "Enter the value of rainfall at Station 3:225\n",
            "Enter the value of rainfall at Station 4:275\n",
            "Enter the value of rainfall at Station 5:325\n",
            "Enter the value of Catchment Area for raingauge station 1:25\n",
            "Enter the value of Catchment Area for raingauge station 2:30\n",
            "Enter the value of Catchment Area for raingauge station 3:30\n",
            "Enter the value of Catchment Area for raingauge station 4:10\n",
            "Enter the value of Catchment Area for raingauge station 5:5\n",
            "The value of Total Catchment area is: 100.0\n",
            "The runoff volume from the given catchment is: 48750000.0\n",
            "The value of Mean Precipitalon is: 195.0\n"
          ]
        }
      ],
      "source": [
        "#Calculation of Mean precipitation by theissen's polygon Method\n",
        "#The value of precipitation at Each station is\n",
        "p1=float(input(\"Enter the value of rainfall at Station 1:\"))\n",
        "p2= float(input(\"Enter the value of rainfall at Station 2:\"))\n",
        "p3 =float(input(\"Enter the value of rainfall at Station 3:\"))\n",
        "p4 =float(input(\"Enter the value of rainfall at Station 4:\"))\n",
        "p5 =float(input(\"Enter the value of rainfall at Station 5:\"))\n",
        "#Area for each station\n",
        "A1= float(input(\"Enter the value of Catchment Area for raingauge station 1:\"))\n",
        "A2= float(input(\"Enter the value of Catchment Area for raingauge station 2:\"))\n",
        "A3 =float(input(\"Enter the value of Catchment Area for raingauge station 3:\"))\n",
        "A4=float(input(\"Enter the value of Catchment Area for raingauge station 4:\"))\n",
        "A5= float(input(\"Enter the value of Catchment Area for raingauge station 5:\"))\n",
        "#The total catchment area is\n",
        "A=A1 + A2 + A3 + A4+ A5\n",
        "print(\"The value of Total Catchment area is:\", A)\n",
        "# Runoff Volume\n",
        "#The volume shall be multiplied by the coefficient 2500 to cater scale effects\n",
        "#Runoff Volume\n",
        "V= (p1* A1+ p2* A2+ p3* A3+ p4 *A4+p5* A5)*2500\n",
        "print(\"The runoff volume from the given catchment is:\", V)\n",
        "#Mean Precipitation\n",
        "p=(p1* A1+ p2* A2 + p3* A3+ p4*A4+ p5* A5)/A\n",
        "print (\"The value of Mean Precipitalon is:\", p)"
      ]
    },
    {
      "cell_type": "code",
      "execution_count": 3,
      "metadata": {
        "colab": {
          "base_uri": "https://localhost:8080/"
        },
        "id": "Kxrq5IEk4ra-",
        "outputId": "f16efacc-de8a-4718-ba71-fd02e501b059"
      },
      "outputs": [
        {
          "name": "stdout",
          "output_type": "stream",
          "text": [
            "Enter the value of rainfall at Station 1:14\n",
            "Enter the value of rainfall at Station 2:12\n",
            "Enter the value of rainfall at Station 3:10\n",
            "Enter the value of rainfall at Station 4:8\n",
            "Enter the value of rainfall at Station 5:6\n",
            "Enter the value of rainfall at Station 6:4\n",
            "Enter the value of rainfall at Station 7:2\n",
            "Enter the value of rainfall at Station 8:0\n",
            "Enter the value of Catchment Area for raingage station 1:90\n",
            "Enter the value of Catchment Area for raingauge station 2:140\n",
            "Enter the value of Catchment Area for raingauge station 3:125\n",
            "Enter the value of Catchment Area for raingauge station 4:140\n",
            "Enter the value of Catchment Area for raingauge station 5:85\n",
            "Enter the value of Catchment Area for raingauge station 6:40\n",
            "Enter the value of Catchment Area for raingauge station 7:20\n",
            "The value of Total Catchment area is : 640\n",
            "the value of Mean Precipitation is: 8.40625\n"
          ]
        }
      ],
      "source": [
        "#Calculation of Mean precipitation by Isohytel Method\n",
        "#The value of precipitation at Each station i\n",
        "p1=int(input(\"Enter the value of rainfall at Station 1:\"))\n",
        "p2= int(input(\"Enter the value of rainfall at Station 2:\"))\n",
        "p3=int(input(\"Enter the value of rainfall at Station 3:\"))\n",
        "p4=int(input(\"Enter the value of rainfall at Station 4:\"))\n",
        "p5= int(input(\"Enter the value of rainfall at Station 5:\"))\n",
        "p6=int(input(\"Enter the value of rainfall at Station 6:\"))\n",
        "p7= int(input(\"Enter the value of rainfall at Station 7:\"))\n",
        "p8=int(input(\"Enter the value of rainfall at Station 8:\"))\n",
        "# Area for each station\n",
        "A1= int(input(\"Enter the value of Catchment Area for raingage station 1:\"))\n",
        "A2= int(input(\"Enter the value of Catchment Area for raingauge station 2:\"))\n",
        "A3= int(input(\"Enter the value of Catchment Area for raingauge station 3:\"))\n",
        "A4=int(input(\"Enter the value of Catchment Area for raingauge station 4:\"))\n",
        "A5= int(input(\"Enter the value of Catchment Area for raingauge station 5:\"))\n",
        "A6= int(input(\"Enter the value of Catchment Area for raingauge station 6:\"))\n",
        "A7= int(input(\"Enter the value of Catchment Area for raingauge station 7:\"))\n",
        "# The total catchment area is\n",
        "A= A1+ A2+ A3+ A4+ A5+ A6+ A7\n",
        "print(\"The value of Total Catchment area is :\", A)\n",
        "# Mean Precipitation\n",
        "p=((p1+p2) *A1/2 + (p2+p3)*A2/2+ (p3+p4)*A3/2+ (p4+p5)* A4/2 + (p5+p6)*A5/2 + (p6+p7)*A6/2 + (p7+p8)*A7/2)/A\n",
        "print(\"the value of Mean Precipitation is:\", p)"
      ]
    }
  ],
  "metadata": {
    "colab": {
      "authorship_tag": "ABX9TyM5o1DHpscKGb57XuTJS8w9",
      "include_colab_link": true,
      "provenance": []
    },
    "kernelspec": {
      "display_name": "Python 3",
      "name": "python3"
    },
    "language_info": {
      "name": "python"
    }
  },
  "nbformat": 4,
  "nbformat_minor": 0
}
