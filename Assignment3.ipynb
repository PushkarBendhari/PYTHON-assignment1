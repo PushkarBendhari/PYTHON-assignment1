{
  "cells": [
    {
      "cell_type": "markdown",
      "metadata": {
        "colab_type": "text",
        "id": "view-in-github"
      },
      "source": [
        "<a href=\"https://colab.research.google.com/github/RiyaAhire011/python/blob/main/Assignment3.ipynb\" target=\"_parent\"><img src=\"https://colab.research.google.com/assets/colab-badge.svg\" alt=\"Open In Colab\"/></a>"
      ]
    },
    {
      "cell_type": "code",
      "execution_count": null,
      "metadata": {
        "colab": {
          "base_uri": "https://localhost:8080/"
        },
        "id": "35bC1mxf6ntr",
        "outputId": "773f2ff0-480e-4aba-942a-8da5df6c5fd1"
      },
      "outputs": [
        {
          "name": "stdout",
          "output_type": "stream",
          "text": [
            "Enter the value of design speed: 65\n",
            "Enter the value of Radius of curvature: 220\n",
            "Enter the value of slope: 150\n",
            "Enter the value of width of road including extra widening: 7.5\n",
            "'enter the value for plain terain:0.07\n",
            "The value of Super elevation: 0.08535353535353535\n",
            "0.07\n",
            "The length of transition curve: 39.37500000000001\n"
          ]
        }
      ],
      "source": [
        "#Pushkar Bendhari\n",
        "#Roll No. 21CV006\n",
        "#To Calculate the length of transition curve\n",
        "V= int(input(\"Enter the value of design speed: \"))\n",
        "R= int(input(\"Enter the value of Radius of curvature: \"))\n",
        "N= int(input(\"Enter the value of slope: \"))\n",
        "W= float(input(\"Enter the value of width of road including extra widening: \"))\n",
        "emax=float(input(\"'enter the value for plain terain:\"))\n",
        "ecal= (V*V/(225*R))\n",
        "print(\"The value of Super elevation:\",ecal)\n",
        "if ecal<emax:\n",
        "  print(ecal)\n",
        "else:\n",
        "  print(emax)\n",
        "Ls=(emax*N*W/2)\n",
        "print(\"The length of transition curve:\", Ls)\n"
      ]
    }
  ],
  "metadata": {
    "colab": {
      "authorship_tag": "ABX9TyMDQeezOr1YL8oSK89EyA9C",
      "include_colab_link": true,
      "provenance": []
    },
    "kernelspec": {
      "display_name": "Python 3",
      "name": "python3"
    },
    "language_info": {
      "name": "python"
    }
  },
  "nbformat": 4,
  "nbformat_minor": 0
}
