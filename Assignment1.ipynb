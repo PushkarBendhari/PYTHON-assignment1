{
  "cells": [
    {
      "cell_type": "markdown",
      "metadata": {
        "colab_type": "text",
        "id": "view-in-github"
      },
      "source": [
        "<a href=\"https://colab.research.google.com/github/RiyaAhire011/python/blob/main/Assignment1.ipynb\" target=\"_parent\"><img src=\"https://colab.research.google.com/assets/colab-badge.svg\" alt=\"Open In Colab\"/></a>"
      ]
    },
    {
      "cell_type": "code",
      "execution_count": null,
      "metadata": {
        "colab": {
          "base_uri": "https://localhost:8080/"
        },
        "id": "zLN8CjAPtQ50",
        "outputId": "6a2c812a-e2b3-4406-bc61-9bdb3abe2924"
      },
      "outputs": [
        {
          "name": "stdout",
          "output_type": "stream",
          "text": [
            "Enter the value of Discharge:4.8\n",
            "Enter the value of top width:2\n",
            "Enter the value of acceleration due to Gravity:9.81\n",
            "enter the value of upstream depth:2\n"
          ]
        }
      ],
      "source": [
        "\n",
        "#Pushkar Bendhari\n",
        "#Roll No. 21CV006\n",
        "#Q1\n",
        "#To find the downstream depth of open channel\n",
        "# Given Data\n",
        "Q= float(input(\"Enter the value of Discharge:\"))\n",
        "T= int(input(\"Enter the value of top width:\"))\n",
        "g= float(input(\"Enter the value of acceleration due to Gravity:\"))\n",
        "y1 = float(input(\"enter the value of upstream depth:\"))\n",
        "Z= float(input(\"Enter the Value of hump: \"))\n",
        "# Dicharge per meter width\n",
        "q=Q/T\n",
        "print (\"The value of discharge per meter width is:\", q)\n",
        "# Area Calculation\n",
        "A1= T*y1\n",
        "print (\"The value of upstream area is:\", A1)\n",
        "# Calculation of Froude Number\n",
        "Fr1 = ((Q*Q*T)/(g*A1* A1 *A1)) *0.5\n",
        "print (\"The value of Froude number is:\", Fr1)\n",
        "if Fr1>1:\n",
        "  print(\"The flow is Super Critical Flow\")\n",
        "else:\n",
        "  print(\"The flow is Sub Critical Flow\")\n",
        "#Upstream Energy\n",
        "E1 = y1 + ((Q*Q)/(2 *g*A1 *A1))\n",
        "print(\"The value of Energy at initial Section is:\", E1)\n",
        "# Downstream Energy\n",
        "E2 = E1 -Z\n",
        "print(\"The value of downstream Energy E2 is:\", E2)\n",
        "# Critical Depth\n",
        "yc = (q*q/g)**0.3333\n",
        "print (\"The Value of critical depth is:\", yc)\n",
        "Ec = 1.5*yc\n",
        "print(\"The value of critical Energy is\", Ec)\n",
        "if Ec>E2:\n",
        "        print(\"Chocking Conditlon\")\n",
        "else:\n",
        "        print(\"SAFE\")\n",
        "# Calculation of Zmax\n",
        "Zmax = E1 - Ec\n",
        "print(\"The value of maximum hump is:\", Zmax)"
      ]
    },
    {
      "cell_type": "code",
      "execution_count": null,
      "metadata": {
        "colab": {
          "base_uri": "https://localhost:8080/"
        },
        "id": "hF46oGFSuu9I",
        "outputId": "cafec1cf-ea7d-4bf3-f39a-911606cff36b"
      },
      "outputs": [
        {
          "name": "stdout",
          "output_type": "stream",
          "text": [
            "Enter the value of Discharge:15\n",
            "Enter the value of width at upstream: 3.5\n",
            "Enter the value of width at downstream: 2.5\n",
            "Enter the value of acceleration due to Gravity:2.5\n",
            "enter the value of upstream depth:9.81\n",
            "The value of discharge per meter width is:' 4.285714285714286\n",
            "The value of discharge per meter width is: 6.0\n",
            "The value of upstream area is: 34.335\n",
            "The value of Froude number is: 0.08821647485297548\n",
            "The flow is Sub Critical Flow\n",
            "The value of Energy at initial Section is: 9.848171428266058\n",
            "The value of minimum width to be kept to avoid Chocking is: 0.5639294088687579\n",
            "SAFE\n",
            "The Value of critical depth is:  2.432664506234895\n",
            "The value of critical Energy is 3.6489967593523422\n"
          ]
        }
      ],
      "source": [
        "\n",
        "#Q2\n",
        "# To find the downstream depth of open channel\n",
        "# Given Data\n",
        "Q= float(input(\"Enter the value of Discharge:\"))\n",
        "B1 = float(input(\"Enter the value of width at upstream: \"))\n",
        "B2 = float(input(\"Enter the value of width at downstream: \"))\n",
        "g= float(input(\"Enter the value of acceleration due to Gravity:\"))\n",
        "yl= float(input(\"enter the value of upstream depth:\"))\n",
        "# Dicharge per meter width\n",
        "ql= Q/B1\n",
        "q2= Q/B2\n",
        "print(\"The value of discharge per meter width is:'\", ql)\n",
        "print(\"The value of discharge per meter width is:\", q2)\n",
        "# Area Calculation\n",
        "A1 = B1*yl\n",
        "print (\"The value of upstream area is:\", A1)\n",
        "# Calculation of Froude Number\n",
        "Fr1 = ((Q*Q*B1)/(g*A1*A1*A1)) **0.5\n",
        "print(\"The value of Froude number is:\", Fr1)\n",
        "if Fr1>1:\n",
        "  print(\"The flow is Super Critical Flow\")\n",
        "else:\n",
        "  print(\"The flow is Sub Critical Flow\")\n",
        "# Upstream Energy\n",
        "E1 = yl + ((Q*Q)/(2*g*A1*A1))\n",
        "print(\"The value of Energy at initial Section is:\", E1)\n",
        "\n",
        "B2min = ((27*Q*Q)/(8*g*E1*E1*E1)) **0.5\n",
        "print(\"The value of minimum width to be kept to avoid Chocking is:\", B2min)\n",
        "if B2min > B2:\n",
        "  print(\"Chocking Condition\")\n",
        "else:\n",
        "  print(\"SAFE\")\n",
        "# Critical Depth\n",
        "yc = ((Q*Q)/(B2*B2*g)) **0.3333\n",
        "print (\"The Value of critical depth is: \", yc)\n",
        "Ec = 1.5*yc\n",
        "print(\"The value of critical Energy is\", Ec)"
      ]
    },
    {
      "cell_type": "code",
      "execution_count": null,
      "metadata": {
        "colab": {
          "base_uri": "https://localhost:8080/"
        },
        "id": "TTMcgkNjvKtC",
        "outputId": "71541af3-23eb-4a5a-8d4e-0fb2e316a37a"
      },
      "outputs": [
        {
          "name": "stdout",
          "output_type": "stream",
          "text": [
            "Enter the value of Discharge:100\n",
            "Enter the value of Rugosity coefficient:0.015\n",
            "Enter the value of bed slope:0.0004\n",
            "Enter the value of acceleration due to Gravity:9.81\n",
            "The Value of yn is 97.11269022539724\n",
            "The Value of ynl is 106.82395924793698\n",
            "The cross sectional Area is: 17967.70229328117\n",
            "The value of top Width is: 224.27873031269573\n",
            "The value of Bottom Width is' 112.13936515634786\n",
            "The value of Froude number is: 1.9706588875002574e-08\n",
            "The flow is Sub Critical Flow\n"
          ]
        }
      ],
      "source": [
        "\n",
        "#Q3\n",
        "#Design of Efficient Channel Section\n",
        "Q= float(input(\"Enter the value of Discharge:\"))\n",
        "n=float(input(\"Enter the value of Rugosity coefficient:\"))\n",
        "So= float (input(\"Enter the value of bed slope:\"))\n",
        "g= float(input(\"Enter the value of acceleration due to Gravity:\"))\n",
        " #Manning's Formula\n",
        " #Q = (AR^2/3 S^1/2)/n\n",
        "yn=(Q*n*50* 1.591)/(1.732) **(3/8)\n",
        "print (\"The Value of yn is\", yn)\n",
        " #To encounter the effect of free board\n",
        "yn1= 1.1*yn\n",
        "print (\"The Value of ynl is\", yn1)\n",
        " # Cross Sectional Area\n",
        "A = 1.732 * yn * yn1\n",
        "print (\"The cross sectional Area is:\", A)\n",
        " # Top Width\n",
        "T= 4* yn/1.732\n",
        "print (\"The value of top Width is:\", T)\n",
        " # Bottom Width\n",
        "B= 2 * yn/1.732\n",
        "print (\"The value of Bottom Width is'\", B)\n",
        "Fr= ((Q*Q*T)/(g*A*A*A)) * 0.5\n",
        "print (\"The value of Froude number is:\", Fr)\n",
        "if Fr>1:\n",
        "  print(\"The flow is Super Critical Flow\")\n",
        "else:\n",
        "  print(\"The flow is Sub Critical Flow\")"
      ]
    }
  ],
  "metadata": {
    "colab": {
      "authorship_tag": "ABX9TyOBsLQC4a4zz7f3bo4NYO4L",
      "include_colab_link": true,
      "provenance": []
    },
    "kernelspec": {
      "display_name": "Python 3",
      "name": "python3"
    },
    "language_info": {
      "name": "python"
    }
  },
  "nbformat": 4,
  "nbformat_minor": 0
}
